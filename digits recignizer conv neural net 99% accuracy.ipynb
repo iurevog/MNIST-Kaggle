{
 "cells": [
  {
   "cell_type": "markdown",
   "metadata": {
    "id": "Qx7gD5SOa0oT"
   },
   "source": [
    "# Digit Recognizer\n",
    "\n",
    "Learn computer vision fundamentals with the famous MNIST data"
   ]
  },
  {
   "cell_type": "code",
   "execution_count": 1,
   "metadata": {
    "colab": {
     "base_uri": "https://localhost:8080/"
    },
    "id": "tRPzy1zPDyYD",
    "outputId": "0ca2b214-aa59-4f31-e769-4be6edeaa170"
   },
   "outputs": [
    {
     "name": "stdout",
     "output_type": "stream",
     "text": [
      "2.1.0\n"
     ]
    }
   ],
   "source": [
    "import tensorflow as tf\n",
    "print(tf.__version__)\n",
    "\n",
    "from tensorflow.keras.preprocessing.image import ImageDataGenerator\n",
    "from pathlib import Path\n",
    "import matplotlib.pyplot as plt\n",
    "import numpy as np"
   ]
  },
  {
   "cell_type": "code",
   "execution_count": 2,
   "metadata": {
    "id": "dFjoXlmJYyJJ"
   },
   "outputs": [],
   "source": [
    "def show_mnist(images, labels, predicted_labels=None):\n",
    "    \"\"\"Функция по отображению сэмпла\"\"\"\n",
    "    \n",
    "    plt.figure(figsize=(10,10))\n",
    "    for i in range(16):\n",
    "        plt.subplot(4,4, i+1)\n",
    "        plt.xticks([])\n",
    "        plt.yticks([])\n",
    "        plt.grid(False)\n",
    "        plt.imshow(images[i], cmap=plt.cm.gray)\n",
    "        if predicted_labels is not None:\n",
    "            title_obj = plt.title(f\"Real: {labels[i]}. Pred: {predicted_labels[i]}\")\n",
    "            if labels[i] != predicted_labels[i]:\n",
    "                plt.setp(title_obj, color='r')\n",
    "        else:\n",
    "            plt.title(f\"Real label: {labels[i]}\")\n",
    "\n",
    "def show_progress(history: dict):\n",
    "    \"\"\"Функция по acc и loss\"\"\"\n",
    "    \n",
    "    plt.figure(figsize=(10, 5))\n",
    "    ax1 = plt.subplot(1,2,1)    \n",
    "    plt.plot(history[\"accuracy\"],label='train accuracy')\n",
    "    plt.plot(history[\"val_accuracy\"], label='test accuracy')\n",
    "    ax2 = plt.subplot(1,2,2)\n",
    "    plt.plot(history[\"loss\"],label='train_loss')\n",
    "    plt.plot(history[\"val_loss\"],label='test_loss')\n",
    "    \n",
    "    ax1.legend(loc='best')\n",
    "    ax2.legend(loc='best')\n",
    "    plt.grid()\n",
    "    plt.tight_layout()\n",
    "    plt.show()"
   ]
  },
  {
   "cell_type": "markdown",
   "metadata": {
    "id": "nL_nICZ4cMOx"
   },
   "source": [
    "## Загрузка данных"
   ]
  },
  {
   "cell_type": "code",
   "execution_count": 3,
   "metadata": {},
   "outputs": [],
   "source": [
    "import pandas as pd"
   ]
  },
  {
   "cell_type": "code",
   "execution_count": 4,
   "metadata": {},
   "outputs": [
    {
     "data": {
      "text/html": [
       "<div>\n",
       "<style scoped>\n",
       "    .dataframe tbody tr th:only-of-type {\n",
       "        vertical-align: middle;\n",
       "    }\n",
       "\n",
       "    .dataframe tbody tr th {\n",
       "        vertical-align: top;\n",
       "    }\n",
       "\n",
       "    .dataframe thead th {\n",
       "        text-align: right;\n",
       "    }\n",
       "</style>\n",
       "<table border=\"1\" class=\"dataframe\">\n",
       "  <thead>\n",
       "    <tr style=\"text-align: right;\">\n",
       "      <th></th>\n",
       "      <th>label</th>\n",
       "      <th>pixel0</th>\n",
       "      <th>pixel1</th>\n",
       "      <th>pixel2</th>\n",
       "      <th>pixel3</th>\n",
       "      <th>pixel4</th>\n",
       "      <th>pixel5</th>\n",
       "      <th>pixel6</th>\n",
       "      <th>pixel7</th>\n",
       "      <th>pixel8</th>\n",
       "      <th>...</th>\n",
       "      <th>pixel774</th>\n",
       "      <th>pixel775</th>\n",
       "      <th>pixel776</th>\n",
       "      <th>pixel777</th>\n",
       "      <th>pixel778</th>\n",
       "      <th>pixel779</th>\n",
       "      <th>pixel780</th>\n",
       "      <th>pixel781</th>\n",
       "      <th>pixel782</th>\n",
       "      <th>pixel783</th>\n",
       "    </tr>\n",
       "  </thead>\n",
       "  <tbody>\n",
       "    <tr>\n",
       "      <th>0</th>\n",
       "      <td>1</td>\n",
       "      <td>0</td>\n",
       "      <td>0</td>\n",
       "      <td>0</td>\n",
       "      <td>0</td>\n",
       "      <td>0</td>\n",
       "      <td>0</td>\n",
       "      <td>0</td>\n",
       "      <td>0</td>\n",
       "      <td>0</td>\n",
       "      <td>...</td>\n",
       "      <td>0</td>\n",
       "      <td>0</td>\n",
       "      <td>0</td>\n",
       "      <td>0</td>\n",
       "      <td>0</td>\n",
       "      <td>0</td>\n",
       "      <td>0</td>\n",
       "      <td>0</td>\n",
       "      <td>0</td>\n",
       "      <td>0</td>\n",
       "    </tr>\n",
       "    <tr>\n",
       "      <th>1</th>\n",
       "      <td>0</td>\n",
       "      <td>0</td>\n",
       "      <td>0</td>\n",
       "      <td>0</td>\n",
       "      <td>0</td>\n",
       "      <td>0</td>\n",
       "      <td>0</td>\n",
       "      <td>0</td>\n",
       "      <td>0</td>\n",
       "      <td>0</td>\n",
       "      <td>...</td>\n",
       "      <td>0</td>\n",
       "      <td>0</td>\n",
       "      <td>0</td>\n",
       "      <td>0</td>\n",
       "      <td>0</td>\n",
       "      <td>0</td>\n",
       "      <td>0</td>\n",
       "      <td>0</td>\n",
       "      <td>0</td>\n",
       "      <td>0</td>\n",
       "    </tr>\n",
       "    <tr>\n",
       "      <th>2</th>\n",
       "      <td>1</td>\n",
       "      <td>0</td>\n",
       "      <td>0</td>\n",
       "      <td>0</td>\n",
       "      <td>0</td>\n",
       "      <td>0</td>\n",
       "      <td>0</td>\n",
       "      <td>0</td>\n",
       "      <td>0</td>\n",
       "      <td>0</td>\n",
       "      <td>...</td>\n",
       "      <td>0</td>\n",
       "      <td>0</td>\n",
       "      <td>0</td>\n",
       "      <td>0</td>\n",
       "      <td>0</td>\n",
       "      <td>0</td>\n",
       "      <td>0</td>\n",
       "      <td>0</td>\n",
       "      <td>0</td>\n",
       "      <td>0</td>\n",
       "    </tr>\n",
       "  </tbody>\n",
       "</table>\n",
       "<p>3 rows × 785 columns</p>\n",
       "</div>"
      ],
      "text/plain": [
       "   label  pixel0  pixel1  pixel2  pixel3  pixel4  pixel5  pixel6  pixel7  \\\n",
       "0      1       0       0       0       0       0       0       0       0   \n",
       "1      0       0       0       0       0       0       0       0       0   \n",
       "2      1       0       0       0       0       0       0       0       0   \n",
       "\n",
       "   pixel8  ...  pixel774  pixel775  pixel776  pixel777  pixel778  pixel779  \\\n",
       "0       0  ...         0         0         0         0         0         0   \n",
       "1       0  ...         0         0         0         0         0         0   \n",
       "2       0  ...         0         0         0         0         0         0   \n",
       "\n",
       "   pixel780  pixel781  pixel782  pixel783  \n",
       "0         0         0         0         0  \n",
       "1         0         0         0         0  \n",
       "2         0         0         0         0  \n",
       "\n",
       "[3 rows x 785 columns]"
      ]
     },
     "execution_count": 4,
     "metadata": {},
     "output_type": "execute_result"
    }
   ],
   "source": [
    "data = pd.read_csv('train.csv')\n",
    "data.head(3)"
   ]
  },
  {
   "cell_type": "code",
   "execution_count": 5,
   "metadata": {},
   "outputs": [],
   "source": [
    "# Вектора целевой переменной и трейна/теста\n",
    "X = data[data.columns[1:].to_list()].values\n",
    "Y = data[data.columns[0]].values\n",
    "\n",
    "# Преобразуем вектор в картинку\n",
    "x_show_img = X.reshape([-1, 28, 28])"
   ]
  },
  {
   "cell_type": "code",
   "execution_count": 6,
   "metadata": {},
   "outputs": [],
   "source": [
    "from sklearn.model_selection import train_test_split\n",
    "\n",
    "# Тренировочная и валидационные выборки\n",
    "x_train, x_test, y_train, y_test = train_test_split(X, Y, test_size=0.15, random_state=42)\n",
    "x_train, x_test = x_train / 255.0, x_test / 255.0\n",
    "\n",
    "x_train = x_train.reshape([-1, 28, 28, 1])\n",
    "x_test = x_test.reshape([-1, 28, 28, 1])"
   ]
  },
  {
   "cell_type": "code",
   "execution_count": 7,
   "metadata": {},
   "outputs": [
    {
     "data": {
      "image/png": "[encoded data removed]",
      "text/plain": [
       "<Figure size 720x720 with 16 Axes>"
      ]
     },
     "metadata": {},
     "output_type": "display_data"
    }
   ],
   "source": [
    "show_mnist(x_show_img, y_train)"
   ]
  },
  {
   "cell_type": "code",
   "execution_count": 8,
   "metadata": {
    "id": "0yVUAhqPVVet"
   },
   "outputs": [],
   "source": [
    "# Путь для записи прогресса и лучших параметров модели\n",
    "path = Path(\"data/model_1\")\n",
    "path.mkdir(exist_ok=True, parents=True)\n",
    "assert path.exists()\n",
    "\n",
    "cpt_filename = \"best_checkpoint.hdf5\"  \n",
    "cpt_path =str(path / cpt_filename)"
   ]
  },
  {
   "cell_type": "code",
   "execution_count": 44,
   "metadata": {
    "colab": {
     "base_uri": "https://localhost:8080/"
    },
    "id": "oAHxE8wpEKD5",
    "outputId": "2b49f43e-3c3d-42c8-ea43-57243924a5e0",
    "scrolled": true
   },
   "outputs": [
    {
     "name": "stdout",
     "output_type": "stream",
     "text": [
      "WARNING:tensorflow:sample_weight modes were coerced from\n",
      "  ...\n",
      "    to  \n",
      "  ['...']\n",
      "Train for 69 steps, validate on 6300 samples\n",
      "Epoch 1/40\n",
      "68/69 [============================>.] - ETA: 0s - loss: 1.7818 - accuracy: 0.4737\n",
      "Epoch 00001: val_accuracy improved from -inf to 0.90175, saving model to data\\model_1\\best_checkpoint.hdf5\n",
      "69/69 [==============================] - 38s 548ms/step - loss: 1.7727 - accuracy: 0.4776 - val_loss: 0.8472 - val_accuracy: 0.9017\n",
      "Epoch 2/40\n",
      "68/69 [============================>.] - ETA: 0s - loss: 0.6969 - accuracy: 0.8503\n",
      "Epoch 00002: val_accuracy improved from 0.90175 to 0.95556, saving model to data\\model_1\\best_checkpoint.hdf5\n",
      "69/69 [==============================] - 38s 547ms/step - loss: 0.6932 - accuracy: 0.8508 - val_loss: 0.2653 - val_accuracy: 0.9556\n",
      "Epoch 3/40\n",
      "68/69 [============================>.] - ETA: 0s - loss: 0.3466 - accuracy: 0.9146\n",
      "Epoch 00003: val_accuracy improved from 0.95556 to 0.97222, saving model to data\\model_1\\best_checkpoint.hdf5\n",
      "69/69 [==============================] - 39s 569ms/step - loss: 0.3458 - accuracy: 0.9146 - val_loss: 0.1424 - val_accuracy: 0.9722\n",
      "Epoch 4/40\n",
      "68/69 [============================>.] - ETA: 0s - loss: 0.2624 - accuracy: 0.9307\n",
      "Epoch 00004: val_accuracy improved from 0.97222 to 0.97635, saving model to data\\model_1\\best_checkpoint.hdf5\n",
      "69/69 [==============================] - 40s 573ms/step - loss: 0.2612 - accuracy: 0.9312 - val_loss: 0.1083 - val_accuracy: 0.9763\n",
      "Epoch 5/40\n",
      "68/69 [============================>.] - ETA: 0s - loss: 0.2045 - accuracy: 0.9429\n",
      "Epoch 00005: val_accuracy improved from 0.97635 to 0.97841, saving model to data\\model_1\\best_checkpoint.hdf5\n",
      "69/69 [==============================] - 40s 576ms/step - loss: 0.2038 - accuracy: 0.9432 - val_loss: 0.0907 - val_accuracy: 0.9784\n",
      "Epoch 6/40\n",
      "68/69 [============================>.] - ETA: 0s - loss: 0.1904 - accuracy: 0.9480\n",
      "Epoch 00006: val_accuracy did not improve from 0.97841\n",
      "69/69 [==============================] - 39s 572ms/step - loss: 0.1893 - accuracy: 0.9483 - val_loss: 0.0844 - val_accuracy: 0.9779\n",
      "Epoch 7/40\n",
      "68/69 [============================>.] - ETA: 0s - loss: 0.1523 - accuracy: 0.9587\n",
      "Epoch 00007: val_accuracy improved from 0.97841 to 0.98333, saving model to data\\model_1\\best_checkpoint.hdf5\n",
      "69/69 [==============================] - 40s 576ms/step - loss: 0.1526 - accuracy: 0.9585 - val_loss: 0.0686 - val_accuracy: 0.9833\n",
      "Epoch 8/40\n",
      "68/69 [============================>.] - ETA: 0s - loss: 0.1329 - accuracy: 0.9630\n",
      "Epoch 00008: val_accuracy improved from 0.98333 to 0.98540, saving model to data\\model_1\\best_checkpoint.hdf5\n",
      "69/69 [==============================] - 40s 573ms/step - loss: 0.1324 - accuracy: 0.9633 - val_loss: 0.0587 - val_accuracy: 0.9854\n",
      "Epoch 9/40\n",
      "68/69 [============================>.] - ETA: 0s - loss: 0.1304 - accuracy: 0.9620\n",
      "Epoch 00009: val_accuracy did not improve from 0.98540\n",
      "69/69 [==============================] - 40s 577ms/step - loss: 0.1300 - accuracy: 0.9620 - val_loss: 0.0571 - val_accuracy: 0.9846\n",
      "Epoch 10/40\n",
      "68/69 [============================>.] - ETA: 0s - loss: 0.1173 - accuracy: 0.9663\n",
      "Epoch 00010: val_accuracy did not improve from 0.98540\n",
      "69/69 [==============================] - 40s 575ms/step - loss: 0.1187 - accuracy: 0.9658 - val_loss: 0.0717 - val_accuracy: 0.9787\n",
      "Epoch 11/40\n",
      "68/69 [============================>.] - ETA: 0s - loss: 0.1149 - accuracy: 0.9660\n",
      "Epoch 00011: val_accuracy improved from 0.98540 to 0.98762, saving model to data\\model_1\\best_checkpoint.hdf5\n",
      "69/69 [==============================] - 40s 576ms/step - loss: 0.1145 - accuracy: 0.9663 - val_loss: 0.0485 - val_accuracy: 0.9876\n",
      "Epoch 12/40\n",
      "68/69 [============================>.] - ETA: 0s - loss: 0.1064 - accuracy: 0.9681\n",
      "Epoch 00012: val_accuracy did not improve from 0.98762\n",
      "69/69 [==============================] - 40s 576ms/step - loss: 0.1064 - accuracy: 0.9680 - val_loss: 0.0484 - val_accuracy: 0.9862\n",
      "Epoch 13/40\n",
      "68/69 [============================>.] - ETA: 0s - loss: 0.0937 - accuracy: 0.9724\n",
      "Epoch 00013: val_accuracy improved from 0.98762 to 0.99016, saving model to data\\model_1\\best_checkpoint.hdf5\n",
      "69/69 [==============================] - 40s 585ms/step - loss: 0.0931 - accuracy: 0.9725 - val_loss: 0.0386 - val_accuracy: 0.9902\n",
      "Epoch 14/40\n",
      "68/69 [============================>.] - ETA: 0s - loss: 0.0942 - accuracy: 0.9725\n",
      "Epoch 00014: val_accuracy did not improve from 0.99016\n",
      "69/69 [==============================] - 40s 584ms/step - loss: 0.0944 - accuracy: 0.9726 - val_loss: 0.0468 - val_accuracy: 0.9859\n",
      "Epoch 15/40\n",
      "68/69 [============================>.] - ETA: 0s - loss: 0.0914 - accuracy: 0.9728\n",
      "Epoch 00015: val_accuracy did not improve from 0.99016\n",
      "69/69 [==============================] - 40s 578ms/step - loss: 0.0907 - accuracy: 0.9731 - val_loss: 0.0417 - val_accuracy: 0.9878\n",
      "Epoch 16/40\n",
      "68/69 [============================>.] - ETA: 0s - loss: 0.1000 - accuracy: 0.9708\n",
      "Epoch 00016: val_accuracy did not improve from 0.99016\n",
      "69/69 [==============================] - 40s 579ms/step - loss: 0.0998 - accuracy: 0.9707 - val_loss: 0.0411 - val_accuracy: 0.9879\n",
      "Epoch 17/40\n",
      "68/69 [============================>.] - ETA: 0s - loss: 0.0918 - accuracy: 0.9728\n",
      "Epoch 00017: val_accuracy did not improve from 0.99016\n",
      "69/69 [==============================] - 40s 584ms/step - loss: 0.0922 - accuracy: 0.9726 - val_loss: 0.0454 - val_accuracy: 0.9871\n",
      "Epoch 18/40\n",
      "68/69 [============================>.] - ETA: 0s - loss: 0.0831 - accuracy: 0.9744\n",
      "Epoch 00018: val_accuracy did not improve from 0.99016\n",
      "69/69 [==============================] - 40s 581ms/step - loss: 0.0823 - accuracy: 0.9746 - val_loss: 0.0367 - val_accuracy: 0.9897\n",
      "Epoch 19/40\n",
      "68/69 [============================>.] - ETA: 0s - loss: 0.0736 - accuracy: 0.9781\n",
      "Epoch 00019: val_accuracy did not improve from 0.99016\n",
      "69/69 [==============================] - 40s 577ms/step - loss: 0.0739 - accuracy: 0.9780 - val_loss: 0.0376 - val_accuracy: 0.9887\n",
      "Epoch 20/40\n",
      "68/69 [============================>.] - ETA: 0s - loss: 0.0856 - accuracy: 0.9732\n",
      "Epoch 00020: val_accuracy did not improve from 0.99016\n",
      "69/69 [==============================] - 40s 583ms/step - loss: 0.0848 - accuracy: 0.9736 - val_loss: 0.0450 - val_accuracy: 0.9851\n",
      "Epoch 21/40\n",
      "68/69 [============================>.] - ETA: 0s - loss: 0.0838 - accuracy: 0.9743\n",
      "Epoch 00021: val_accuracy improved from 0.99016 to 0.99048, saving model to data\\model_1\\best_checkpoint.hdf5\n",
      "69/69 [==============================] - 40s 584ms/step - loss: 0.0834 - accuracy: 0.9743 - val_loss: 0.0344 - val_accuracy: 0.9905\n",
      "Epoch 22/40\n",
      "68/69 [============================>.] - ETA: 0s - loss: 0.0678 - accuracy: 0.9788\n",
      "Epoch 00022: val_accuracy did not improve from 0.99048\n",
      "69/69 [==============================] - 40s 577ms/step - loss: 0.0678 - accuracy: 0.9787 - val_loss: 0.0354 - val_accuracy: 0.9894\n",
      "Epoch 23/40\n",
      "68/69 [============================>.] - ETA: 0s - loss: 0.0675 - accuracy: 0.9798\n",
      "Epoch 00023: val_accuracy did not improve from 0.99048\n",
      "69/69 [==============================] - 40s 581ms/step - loss: 0.0677 - accuracy: 0.9798 - val_loss: 0.0331 - val_accuracy: 0.9900\n",
      "Epoch 24/40\n",
      "68/69 [============================>.] - ETA: 0s - loss: 0.0612 - accuracy: 0.9806\n",
      "Epoch 00024: val_accuracy did not improve from 0.99048\n",
      "69/69 [==============================] - 40s 584ms/step - loss: 0.0610 - accuracy: 0.9806 - val_loss: 0.0340 - val_accuracy: 0.9897\n",
      "Epoch 25/40\n",
      "68/69 [============================>.] - ETA: 0s - loss: 0.0616 - accuracy: 0.9810\n",
      "Epoch 00025: val_accuracy did not improve from 0.99048\n",
      "69/69 [==============================] - 40s 579ms/step - loss: 0.0616 - accuracy: 0.9810 - val_loss: 0.0334 - val_accuracy: 0.9898\n",
      "Epoch 26/40\n",
      "68/69 [============================>.] - ETA: 0s - loss: 0.0713 - accuracy: 0.9789\n",
      "Epoch 00026: val_accuracy improved from 0.99048 to 0.99063, saving model to data\\model_1\\best_checkpoint.hdf5\n",
      "69/69 [==============================] - 43s 618ms/step - loss: 0.0711 - accuracy: 0.9788 - val_loss: 0.0325 - val_accuracy: 0.9906\n",
      "Epoch 27/40\n",
      "68/69 [============================>.] - ETA: 0s - loss: 0.0495 - accuracy: 0.9855\n",
      "Epoch 00027: val_accuracy did not improve from 0.99063\n",
      "69/69 [==============================] - 44s 644ms/step - loss: 0.0492 - accuracy: 0.9856 - val_loss: 0.0346 - val_accuracy: 0.9894\n"
     ]
    },
    {
     "name": "stdout",
     "output_type": "stream",
     "text": [
      "Epoch 28/40\n",
      "68/69 [============================>.] - ETA: 0s - loss: 0.0582 - accuracy: 0.9825\n",
      "Epoch 00028: val_accuracy did not improve from 0.99063\n",
      "69/69 [==============================] - 44s 631ms/step - loss: 0.0586 - accuracy: 0.9825 - val_loss: 0.0380 - val_accuracy: 0.9884\n",
      "Epoch 29/40\n",
      "68/69 [============================>.] - ETA: 0s - loss: 0.0648 - accuracy: 0.9808\n",
      "Epoch 00029: val_accuracy did not improve from 0.99063\n",
      "69/69 [==============================] - 40s 579ms/step - loss: 0.0645 - accuracy: 0.9809 - val_loss: 0.0330 - val_accuracy: 0.9902\n",
      "Epoch 30/40\n",
      "68/69 [============================>.] - ETA: 0s - loss: 0.0616 - accuracy: 0.9816\n",
      "Epoch 00030: val_accuracy did not improve from 0.99063\n",
      "69/69 [==============================] - 40s 575ms/step - loss: 0.0611 - accuracy: 0.9818 - val_loss: 0.0390 - val_accuracy: 0.9889\n",
      "Epoch 31/40\n",
      "68/69 [============================>.] - ETA: 0s - loss: 0.0568 - accuracy: 0.9835\n",
      "Epoch 00031: val_accuracy did not improve from 0.99063\n",
      "69/69 [==============================] - 40s 579ms/step - loss: 0.0575 - accuracy: 0.9835 - val_loss: 0.0307 - val_accuracy: 0.9903\n",
      "Epoch 32/40\n",
      "68/69 [============================>.] - ETA: 0s - loss: 0.0609 - accuracy: 0.9797\n",
      "Epoch 00032: val_accuracy did not improve from 0.99063\n",
      "69/69 [==============================] - 40s 575ms/step - loss: 0.0608 - accuracy: 0.9797 - val_loss: 0.0309 - val_accuracy: 0.9906\n",
      "Epoch 33/40\n",
      "68/69 [============================>.] - ETA: 0s - loss: 0.0616 - accuracy: 0.9817\n",
      "Epoch 00033: val_accuracy improved from 0.99063 to 0.99254, saving model to data\\model_1\\best_checkpoint.hdf5\n",
      "69/69 [==============================] - 40s 580ms/step - loss: 0.0613 - accuracy: 0.9819 - val_loss: 0.0285 - val_accuracy: 0.9925\n",
      "Epoch 34/40\n",
      "68/69 [============================>.] - ETA: 0s - loss: 0.0555 - accuracy: 0.9815\n",
      "Epoch 00034: val_accuracy did not improve from 0.99254\n",
      "69/69 [==============================] - 40s 578ms/step - loss: 0.0552 - accuracy: 0.9817 - val_loss: 0.0336 - val_accuracy: 0.9897\n",
      "Epoch 35/40\n",
      "68/69 [============================>.] - ETA: 0s - loss: 0.0560 - accuracy: 0.9813\n",
      "Epoch 00035: val_accuracy did not improve from 0.99254\n",
      "69/69 [==============================] - 40s 575ms/step - loss: 0.0556 - accuracy: 0.9815 - val_loss: 0.0325 - val_accuracy: 0.9895\n",
      "Epoch 36/40\n",
      "68/69 [============================>.] - ETA: 0s - loss: 0.0589 - accuracy: 0.9821\n",
      "Epoch 00036: val_accuracy did not improve from 0.99254\n",
      "69/69 [==============================] - 40s 573ms/step - loss: 0.0597 - accuracy: 0.9818 - val_loss: 0.0279 - val_accuracy: 0.9925\n",
      "Epoch 37/40\n",
      "68/69 [============================>.] - ETA: 0s - loss: 0.0535 - accuracy: 0.9830\n",
      "Epoch 00037: val_accuracy did not improve from 0.99254\n",
      "69/69 [==============================] - 40s 575ms/step - loss: 0.0539 - accuracy: 0.9828 - val_loss: 0.0343 - val_accuracy: 0.9892\n",
      "Epoch 38/40\n",
      "68/69 [============================>.] - ETA: 0s - loss: 0.0540 - accuracy: 0.9831\n",
      "Epoch 00038: val_accuracy did not improve from 0.99254\n",
      "69/69 [==============================] - 40s 575ms/step - loss: 0.0536 - accuracy: 0.9832 - val_loss: 0.0310 - val_accuracy: 0.9908\n",
      "Epoch 39/40\n",
      "68/69 [============================>.] - ETA: 0s - loss: 0.0578 - accuracy: 0.9816\n",
      "Epoch 00039: val_accuracy did not improve from 0.99254\n",
      "69/69 [==============================] - 42s 603ms/step - loss: 0.0592 - accuracy: 0.9810 - val_loss: 0.0383 - val_accuracy: 0.9881\n",
      "Epoch 40/40\n",
      "68/69 [============================>.] - ETA: 0s - loss: 0.0521 - accuracy: 0.9829\n",
      "Epoch 00040: val_accuracy did not improve from 0.99254\n",
      "69/69 [==============================] - 40s 577ms/step - loss: 0.0517 - accuracy: 0.9831 - val_loss: 0.0327 - val_accuracy: 0.9895\n"
     ]
    }
   ],
   "source": [
    "# Модель 1\n",
    "model = tf.keras.Sequential()\n",
    "model.add(tf.keras.layers.Conv2D(filters=32, kernel_size=(3, 3), padding='same', \n",
    "                                 activation='relu', input_shape=(28, 28, 1))) \n",
    "\n",
    "model.add(tf.keras.layers.Conv2D(filters=32, kernel_size=(3, 3), padding='same', \n",
    "                                 activation='relu'))\n",
    "\n",
    "model.add(tf.keras.layers.MaxPooling2D(pool_size=2))\n",
    "model.add(tf.keras.layers.Dropout(0.3))\n",
    "model.add(tf.keras.layers.Conv2D(filters=64, kernel_size=(3, 3), padding='same', \n",
    "                                 activation='relu'))\n",
    "\n",
    "model.add(tf.keras.layers.Conv2D(filters=128, kernel_size=(3, 3), padding='same', \n",
    "                                 activation='relu'))\n",
    "\n",
    "model.add(tf.keras.layers.MaxPooling2D(pool_size=2))\n",
    "model.add(tf.keras.layers.Dropout(0.3))\n",
    "model.add(tf.keras.layers.Flatten())\n",
    "model.add(tf.keras.layers.Dense(256, activation='sigmoid'))\n",
    "model.add(tf.keras.layers.Dense(128, activation='sigmoid'))\n",
    "model.add(tf.keras.layers.Dense(10, activation='sigmoid'))\n",
    "\n",
    "optimizer = tf.keras.optimizers.Adam(learning_rate=0.001) \n",
    "loss = tf.keras.losses.SparseCategoricalCrossentropy(from_logits=False) \n",
    "\n",
    "datagen = ImageDataGenerator(rotation_range=20, zoom_range = 0.2, width_shift_range=0.1, height_shift_range=0.1)\n",
    "\n",
    "checkpoint = tf.keras.callbacks.ModelCheckpoint(cpt_path, monitor='val_accuracy', verbose=1, save_best_only=True, mode='max')\n",
    "\n",
    "model.compile(optimizer=optimizer, loss=loss, metrics=[\"accuracy\"]) \n",
    "history = model.fit(x=datagen.flow(x_train, y_train, batch_size=128), validation_data=(x_test, y_test), \n",
    "                    steps_per_epoch=x_train.shape[0] // 512, epochs=40, verbose=1, shuffle=True, callbacks=[checkpoint])"
   ]
  },
  {
   "cell_type": "markdown",
   "metadata": {
    "id": "3F8zo0Milj4c"
   },
   "source": [
    "Графики обучения:"
   ]
  },
  {
   "cell_type": "code",
   "execution_count": 45,
   "metadata": {
    "colab": {
     "base_uri": "https://localhost:8080/",
     "height": 368
    },
    "id": "nGOrpkkAX8o5",
    "outputId": "216ed3bc-781d-4a5a-b036-94f2e1a9b471"
   },
   "outputs": [
    {
     "data": {
      "image/png": "[encoded data removed]",
      "text/plain": [
       "<Figure size 720x360 with 2 Axes>"
      ]
     },
     "metadata": {
      "needs_background": "light"
     },
     "output_type": "display_data"
    }
   ],
   "source": [
    "show_progress(history.history)"
   ]
  },
  {
   "cell_type": "code",
   "execution_count": 46,
   "metadata": {
    "colab": {
     "base_uri": "https://localhost:8080/"
    },
    "id": "lUrOvNfPd5B5",
    "outputId": "eca2c014-732f-402a-ac72-78406d1b4b55"
   },
   "outputs": [
    {
     "name": "stdout",
     "output_type": "stream",
     "text": [
      "6300/6300 [==============================] - 7s 1ms/sample - loss: 0.0285 - accuracy: 0.9925\n",
      "Accuracy of restored model 99.25%\n"
     ]
    }
   ],
   "source": [
    "# Accuracy на валидации лучшей модели\n",
    "restored_model = tf.keras.models.load_model(cpt_path)\n",
    "loss, acc = restored_model.evaluate(x_test, y_test)\n",
    "print(f\"Accuracy of restored model {acc*100 :.2f}%\")"
   ]
  },
  {
   "cell_type": "markdown",
   "metadata": {
    "id": "F7XFRliomD6b"
   },
   "source": [
    "Сравнение предсказаний с реальными классами на тесте:"
   ]
  },
  {
   "cell_type": "code",
   "execution_count": 47,
   "metadata": {
    "colab": {
     "base_uri": "https://localhost:8080/",
     "height": 650
    },
    "id": "aYXxV5tjY4Xx",
    "outputId": "951863c9-1807-478f-e9f0-27a1b464b803"
   },
   "outputs": [
    {
     "data": {
      "image/png": "[encoded data removed]",
      "text/plain": [
       "<Figure size 720x720 with 16 Axes>"
      ]
     },
     "metadata": {},
     "output_type": "display_data"
    }
   ],
   "source": [
    "predicted_labels = restored_model.predict_classes(x_test)\n",
    "idxs = np.random.choice(np.arange(len(x_test)), 16, replace=False)\n",
    "show_mnist(x_test[idxs].reshape((-1, 28, 28)), y_test[idxs], predicted_labels[idxs])"
   ]
  },
  {
   "cell_type": "code",
   "execution_count": 48,
   "metadata": {},
   "outputs": [],
   "source": [
    "# Тестовый датасет для kaggle\n",
    "test_to_submit = pd.read_csv('test.csv')\n",
    "test_to_submit = test_to_submit.values / 255.0\n",
    "test_to_submit = test_to_submit.reshape((-1, 28, 28, 1))"
   ]
  },
  {
   "cell_type": "code",
   "execution_count": 49,
   "metadata": {},
   "outputs": [],
   "source": [
    "# Предсказание\n",
    "predicted_labels = restored_model.predict_classes(test_to_submit)"
   ]
  },
  {
   "cell_type": "code",
   "execution_count": 50,
   "metadata": {},
   "outputs": [],
   "source": [
    "# Загрузка в формат для Kaggle\n",
    "sub_df = pd.DataFrame([np.arange(1, predicted_labels.shape[0]+1), predicted_labels]).T\n",
    "sub_df.columns = ['ImageId' ,'Label']\n",
    "sub_df = sub_df.astype(int)\n",
    "sub_df.to_csv('Submission.csv', index=False)"
   ]
  }
 ],
 "metadata": {
  "colab": {
   "collapsed_sections": [],
   "name": "HW 3 ML",
   "provenance": []
  },
  "kernelspec": {
   "display_name": "Python 3",
   "language": "python",
   "name": "python3"
  },
  "language_info": {
   "codemirror_mode": {
    "name": "ipython",
    "version": 3
   },
   "file_extension": ".py",
   "mimetype": "text/x-python",
   "name": "python",
   "nbconvert_exporter": "python",
   "pygments_lexer": "ipython3",
   "version": "3.7.4"
  },
  "toc": {
   "base_numbering": 1,
   "nav_menu": {},
   "number_sections": true,
   "sideBar": true,
   "skip_h1_title": false,
   "title_cell": "Table of Contents",
   "title_sidebar": "Contents",
   "toc_cell": false,
   "toc_position": {},
   "toc_section_display": true,
   "toc_window_display": false
  }
 },
 "nbformat": 4,
 "nbformat_minor": 1
}
